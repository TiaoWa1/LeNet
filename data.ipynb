{
 "cells": [
  {
   "cell_type": "code",
   "execution_count": 2,
   "id": "dc6379d7-18b6-4905-b720-03382c86a4b7",
   "metadata": {},
   "outputs": [
    {
     "name": "stderr",
     "output_type": "stream",
     "text": [
      "C:\\Users\\Tiaowa\\anaconda3\\lib\\site-packages\\tqdm\\auto.py:21: TqdmWarning: IProgress not found. Please update jupyter and ipywidgets. See https://ipywidgets.readthedocs.io/en/stable/user_install.html\n",
      "  from .autonotebook import tqdm as notebook_tqdm\n"
     ]
    }
   ],
   "source": [
    "from torchvision.datasets import FashionMNIST\n",
    "from torchvision import transforms\n",
    "import torch.utils.data as Data\n",
    "import numpy as np"
   ]
  },
  {
   "cell_type": "code",
   "execution_count": 3,
   "id": "cce84266-50a3-4f4a-b184-02725bd451aa",
   "metadata": {},
   "outputs": [],
   "source": [
    "data = FashionMNIST(root='./data',\n",
    "                    train=True,\n",
    "                    transform=transforms.Compose([transforms.Resize(size=224), transforms.ToTensor()]),\n",
    "                    download=True)"
   ]
  },
  {
   "cell_type": "code",
   "execution_count": 4,
   "id": "f023e6b0-f5aa-41aa-9384-a0d60be7fdb3",
   "metadata": {},
   "outputs": [],
   "source": [
    "train_loader = Data.DataLoader(dataset=data,\n",
    "                              batch_size=64,\n",
    "                              shuffle=True,\n",
    "                              num_workers=0)"
   ]
  },
  {
   "cell_type": "code",
   "execution_count": 5,
   "id": "203267b9-a940-4b9d-a885-5d54b91cc454",
   "metadata": {},
   "outputs": [
    {
     "name": "stdout",
     "output_type": "stream",
     "text": [
      "['T-shirt/top', 'Trouser', 'Pullover', 'Dress', 'Coat', 'Sandal', 'Shirt', 'Sneaker', 'Bag', 'Ankle boot']\n"
     ]
    }
   ],
   "source": [
    "for step, (b_x, b_y) in enumerate(train_loader):\n",
    "    if step > 0:\n",
    "        break\n",
    "\n",
    "feature = np.array(b_x.squeeze())\n",
    "label = np.array(b_y)\n",
    "print(data.classes)"
   ]
  },
  {
   "cell_type": "code",
   "execution_count": 6,
   "id": "89c07c26-2202-496f-89b4-0eff009c2725",
   "metadata": {},
   "outputs": [
    {
     "data": {
      "text/plain": [
       "(64, 224, 224)"
      ]
     },
     "execution_count": 6,
     "metadata": {},
     "output_type": "execute_result"
    }
   ],
   "source": [
    "feature.shape"
   ]
  }
 ],
 "metadata": {
  "kernelspec": {
   "display_name": "Python 3 (ipykernel)",
   "language": "python",
   "name": "python3"
  },
  "language_info": {
   "codemirror_mode": {
    "name": "ipython",
    "version": 3
   },
   "file_extension": ".py",
   "mimetype": "text/x-python",
   "name": "python",
   "nbconvert_exporter": "python",
   "pygments_lexer": "ipython3",
   "version": "3.10.13"
  }
 },
 "nbformat": 4,
 "nbformat_minor": 5
}
